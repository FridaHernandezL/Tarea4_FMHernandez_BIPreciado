{
 "cells": [
  {
   "cell_type": "markdown",
   "metadata": {},
   "source": [
    "<img style=\"float: left; margin: 30px 15px 15px 15px;\" src=\"https://pngimage.net/wp-content/uploads/2018/06/logo-iteso-png-5.png\" width=\"300\" height=\"500\" /> \n",
    "    \n",
    "    \n",
    "### <font color='navy'> Simulación de procesos financieros. \n",
    "\n",
    "**Nombres:** Frida María Hernández López & Berlín Isabel Preciado Escalera \n",
    "\n",
    "**Fecha:** 21 de septiembre del 2021.\n",
    "\n",
    "**Expediente** : if720476 & if723259 \n",
    "\n",
    "**Profesor:** Oscar David Jaramillo Zuluaga.\n",
    "    \n",
    "**Link Github**: https://github.com/FridaHernandezL/Tarea4_FMHernandez_BIPreciado\n",
    "\n",
    "# Tarea 4: Clase 7"
   ]
  },
  {
   "cell_type": "markdown",
   "metadata": {},
   "source": [
    "### Ejercicio 1. Monte Carlo\n",
    ">Como ejemplo simple de una simulación de Monte Carlo, considere calcular la probabilidad de una suma particular del lanzamiento de tres dados (cada dado tiene valores del uno al seis). Además cada dado tiene las siguientes carácterísticas: el primer dado no está cargado (distribución uniforme todos son equiprobables); el segundo y tercer dado están cargados basados en una distribución binomial con parámetros (`n=5, p=0.5` y `n=5, p=0.2`). Calcule la probabilidad de que la suma resultante sea 7, 14 o 18. "
   ]
  },
  {
   "cell_type": "markdown",
   "metadata": {},
   "source": [
    "#### Código de solución `Estudiante 1: Frida Hernández`"
   ]
  },
  {
   "cell_type": "code",
   "execution_count": 24,
   "metadata": {},
   "outputs": [],
   "source": [
    "import numpy as np\n",
    "import scipy.stats as st"
   ]
  },
  {
   "cell_type": "code",
   "execution_count": 28,
   "metadata": {},
   "outputs": [],
   "source": [
    "def dado7():\n",
    "    dado1 = np.random.randint(1,7)\n",
    "    dado2 = dadocargado = st.binom(n=5, p=0.5).rvs(1)\n",
    "    dado3 = dadocargado = st.binom(n=5, p=0.2).rvs(1)\n",
    "    suma = dado1+dado2+dado3\n",
    "    if suma==7:\n",
    "        return 1\n",
    "    else:\n",
    "        return 0\n",
    "    \n",
    "def dado14():\n",
    "    dado1 = np.random.randint(1,7)\n",
    "    dado2 = dadocargado = st.binom(n=5, p=0.5).rvs(1)\n",
    "    dado3 = dadocargado = st.binom(n=5, p=0.2).rvs(1)\n",
    "    suma = dado1+dado2+dado3\n",
    "    if suma==14:\n",
    "        return 1\n",
    "    else:\n",
    "        return 0\n",
    "\n",
    "def dado18():\n",
    "    dado1 = np.random.randint(1,7)\n",
    "    dado2 = dadocargado = st.binom(n=5, p=0.5).rvs(1)\n",
    "    dado3 = dadocargado = st.binom(n=5, p=0.2).rvs(1)\n",
    "    suma = dado1+dado2+dado3\n",
    "    if suma==18:\n",
    "        return 1\n",
    "    else:\n",
    "        return 0"
   ]
  },
  {
   "cell_type": "code",
   "execution_count": 29,
   "metadata": {},
   "outputs": [
    {
     "name": "stdout",
     "output_type": "stream",
     "text": [
      "La probabilidad de que la suma de todos los dados sea 7 es de: 16.7 % de que sea 14 es de: 0.0 % y de que sea 18 es de: 0.0 %\n"
     ]
    }
   ],
   "source": [
    "N=1000\n",
    "d7 =[dado7() for i in range(N)]\n",
    "d14 =[dado14() for i in range(N)]\n",
    "d18 =[dado18() for i in range(N)]\n",
    "\n",
    "p7=(sum(d7)/N)*100\n",
    "p14=(sum(d14)/N)*100\n",
    "p18=(sum(d18)/N)*100\n",
    "print('La probabilidad de que la suma de todos los dados sea 7 es de:',p7,'%','de que sea 14 es de:',p14,'%','y de que sea 18 es de:',p18,'%',)"
   ]
  },
  {
   "cell_type": "markdown",
   "metadata": {},
   "source": [
    "#### Código de solución `Estudiante 2: Berlín Preciado`"
   ]
  },
  {
   "cell_type": "code",
   "execution_count": null,
   "metadata": {},
   "outputs": [],
   "source": []
  },
  {
   "cell_type": "markdown",
   "metadata": {},
   "source": [
    "### Ejercicio 2. Aplicación Cafetería Central\n",
    ">Premisas para la simulación:\n",
    "- Negocio de alimentos que vende bebidas y alimentos.\n",
    "- Negocio dentro del ITESO.\n",
    "- Negocio en cafetería central.\n",
    "- Tipo de clientes (hombres y mujeres).\n",
    "- Rentabilidad del 60%.\n",
    "\n",
    ">Objetivo\n",
    "Realizar una simulación estimado el tiempo medio que se tardaran los clientes en ser atendidos entre el horario de 6:30 a 1 pm. Además saber el consumo. \n",
    "**Analizar supuestos y limitantes**\n",
    "\n",
    ">Supuestos en simulación\n",
    "Clasificación de clientes: \n",
    "- Mujer  = 1 $\\longrightarrow$ aleatorio < 0.5\n",
    "- Hombre = 0 $\\longrightarrow$ aleatorio $\\geq$ 0.5.\n",
    "\n",
    ">Condiciones iniciales:\n",
    "- Todas las distrubuciones de probabilidad se supondrán uniformes.\n",
    "- Tiempo de simulación: 6:30 am - 1:30pm $\\longrightarrow$ T = 7 horas = 25200 seg.\n",
    "- Tiempo de llegada hasta ser atendido: Min=5seg, Max=30seg.\n",
    "- Tiempo que tardan los clientes en ser atendidos:\n",
    "    - Mujer: Min = 1 min= 60seg, Max = 5 min = 300 seg\n",
    "    - Hombre: Min = 40 seg, Max = 2 min= 120 seg\n",
    "- Consumo según el tipo de cliente:\n",
    "    - Mujer: Min = 30 pesos, Max = 100 pesos\n",
    "    - Hombre: Min = 20 pesos, Max = 80 pesos"
   ]
  },
  {
   "cell_type": "code",
   "execution_count": 1,
   "metadata": {},
   "outputs": [],
   "source": [
    "# Datos del problema\n",
    "d = 5\n",
    "T =25200\n",
    "T_at_min = 5; T_at_max = 30\n",
    "T_mujer_min =60; T_mujer_max = 300\n",
    "T_hombre_min = 40; T_hombre_max = 120\n",
    "C_mujer_min = 30; C_mujer_max = 100\n",
    "C_hombre_min = 20; C_hombre_max = 80"
   ]
  },
  {
   "cell_type": "markdown",
   "metadata": {},
   "source": [
    "#### Código de solución `Estudiante 1: Frida Hernández`"
   ]
  },
  {
   "cell_type": "code",
   "execution_count": 9,
   "metadata": {},
   "outputs": [],
   "source": [
    "def tiempo():\n",
    "    t = np.random.randint(T_at_min,T_at_max+1)\n",
    "    customer = np.random.random()\n",
    "    if 0<=customer<0.5:\n",
    "        mt= np.random.randint(T_mujer_min,T_mujer_max+1)\n",
    "        tiempo = t + mt \n",
    "    if 0.5<=customer:\n",
    "        ht= np.random.randint(T_hombre_min,T_hombre_max+1)\n",
    "        tiempo = t + ht\n",
    "    return tiempo"
   ]
  },
  {
   "cell_type": "code",
   "execution_count": 10,
   "metadata": {},
   "outputs": [],
   "source": [
    "def consumo(): \n",
    "    t = np.random.randint(T_at_min,T_at_max+1)\n",
    "    customer = np.random.random()\n",
    "    if 0<=customer<0.5:\n",
    "        c= np.random.randint(C_mujer_min,C_mujer_max+1)\n",
    "    if 0.5<=customer:\n",
    "        c= np.random.randint(C_hombre_min,C_hombre_max+1)\n",
    "    return c"
   ]
  },
  {
   "cell_type": "code",
   "execution_count": 12,
   "metadata": {},
   "outputs": [],
   "source": [
    "#1 dia de trabajo\n",
    "segundos = []\n",
    "ventas=[]\n",
    "personas=0\n",
    "while sum(segundos)<T:\n",
    "    segundos.append(tiempo())\n",
    "    ventas.append(consumo())\n",
    "    personas +=1\n",
    "    \n",
    "    \n",
    "#5 dias de trabajo\n",
    "segundos5 = []\n",
    "ventas5=[]\n",
    "personas5=0\n",
    "while sum(segundos5)<(T*5):\n",
    "    segundos5.append(tiempo())\n",
    "    ventas5.append(consumo())\n",
    "    personas5 +=1"
   ]
  },
  {
   "cell_type": "markdown",
   "metadata": {},
   "source": [
    ">Responder las siguientes preguntas basados en los datos del problema:\n",
    "\n",
    "\n",
    "1. ¿Cuáles fueron los gastos de los hombres y las mujeres en 5 días de trabajo?."
   ]
  },
  {
   "cell_type": "code",
   "execution_count": 13,
   "metadata": {},
   "outputs": [
    {
     "name": "stdout",
     "output_type": "stream",
     "text": [
      "El gasto de hombres y mujeres en 5 días de trabajo fue de $ 50193\n"
     ]
    }
   ],
   "source": [
    "print('El gasto de hombres y mujeres en 5 días de trabajo fue de $',sum(ventas5))"
   ]
  },
  {
   "cell_type": "markdown",
   "metadata": {},
   "source": [
    "2. ¿Cuál fue el consumo promedio de los hombres y mujeres?"
   ]
  },
  {
   "cell_type": "code",
   "execution_count": 14,
   "metadata": {},
   "outputs": [
    {
     "name": "stdout",
     "output_type": "stream",
     "text": [
      "El consumo promedio de los hombres y mujeres es de $ 54.679245283018865\n"
     ]
    }
   ],
   "source": [
    "print('El consumo promedio de los hombres y mujeres es de $',sum(ventas)/personas)"
   ]
  },
  {
   "cell_type": "markdown",
   "metadata": {},
   "source": [
    "3. ¿Cuál fue el número de personas atendidas por día?"
   ]
  },
  {
   "cell_type": "code",
   "execution_count": 19,
   "metadata": {},
   "outputs": [
    {
     "name": "stdout",
     "output_type": "stream",
     "text": [
      "El numero de personas atendidas por dia fueron 159\n"
     ]
    }
   ],
   "source": [
    "print('El numero de personas atendidas por dia fueron', personas)"
   ]
  },
  {
   "cell_type": "markdown",
   "metadata": {},
   "source": [
    "4. ¿Cuál fue el tiempo de atención promedio?"
   ]
  },
  {
   "cell_type": "code",
   "execution_count": 16,
   "metadata": {},
   "outputs": [
    {
     "name": "stdout",
     "output_type": "stream",
     "text": [
      "El promedio de tiempo de atencion 158.55345911949686 segundos\n"
     ]
    }
   ],
   "source": [
    "print('El promedio de tiempo de atencion', sum(segundos)/personas,'segundos')"
   ]
  },
  {
   "cell_type": "markdown",
   "metadata": {},
   "source": [
    "5. ¿Cuánto fue la ganancia promedio de la cafetería en 5 días de trabajo y su respectiva rentabilidad?"
   ]
  },
  {
   "cell_type": "code",
   "execution_count": 18,
   "metadata": {},
   "outputs": [
    {
     "name": "stdout",
     "output_type": "stream",
     "text": [
      "La ganancia promedio diaria de 5 dias de trabajo es de $ 10038.6 La rentabilidad es de $ 6023.16\n"
     ]
    }
   ],
   "source": [
    "print('La ganancia promedio diaria de 5 dias de trabajo es de $',sum(ventas5)/5,\n",
    "     'La rentabilidad es de $',sum(ventas5)/5*.60)"
   ]
  },
  {
   "cell_type": "markdown",
   "metadata": {},
   "source": [
    "#### Código de solución `Estudiante 2: Berlín Preciado`"
   ]
  },
  {
   "cell_type": "code",
   "execution_count": null,
   "metadata": {},
   "outputs": [],
   "source": []
  },
  {
   "cell_type": "markdown",
   "metadata": {},
   "source": [
    ">Responder las siguientes preguntas basados en los datos del problema:\n",
    "\n",
    "\n",
    "1. ¿Cuáles fueron los gastos de los hombres y las mujeres en 5 días de trabajo?."
   ]
  },
  {
   "cell_type": "code",
   "execution_count": null,
   "metadata": {},
   "outputs": [],
   "source": []
  },
  {
   "cell_type": "markdown",
   "metadata": {},
   "source": [
    "2. ¿Cuál fue el consumo promedio de los hombres y mujeres?"
   ]
  },
  {
   "cell_type": "code",
   "execution_count": null,
   "metadata": {},
   "outputs": [],
   "source": []
  },
  {
   "cell_type": "markdown",
   "metadata": {},
   "source": [
    "3. ¿Cuál fue el número de personas atendidas por día?"
   ]
  },
  {
   "cell_type": "code",
   "execution_count": null,
   "metadata": {},
   "outputs": [],
   "source": []
  },
  {
   "cell_type": "markdown",
   "metadata": {},
   "source": [
    "4. ¿Cuál fue el tiempo de atención promedio?"
   ]
  },
  {
   "cell_type": "code",
   "execution_count": null,
   "metadata": {},
   "outputs": [],
   "source": []
  },
  {
   "cell_type": "markdown",
   "metadata": {},
   "source": [
    "5. ¿Cuánto fue la ganancia promedio de la cafetería en 5 días de trabajo y su respectiva rentabilidad?"
   ]
  },
  {
   "cell_type": "code",
   "execution_count": null,
   "metadata": {},
   "outputs": [],
   "source": []
  }
 ],
 "metadata": {
  "kernelspec": {
   "display_name": "Python 3",
   "language": "python",
   "name": "python3"
  },
  "language_info": {
   "codemirror_mode": {
    "name": "ipython",
    "version": 3
   },
   "file_extension": ".py",
   "mimetype": "text/x-python",
   "name": "python",
   "nbconvert_exporter": "python",
   "pygments_lexer": "ipython3",
   "version": "3.8.3"
  }
 },
 "nbformat": 4,
 "nbformat_minor": 2
}
